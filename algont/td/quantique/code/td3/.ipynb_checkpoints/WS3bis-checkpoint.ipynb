{
 "cells": [
  {
   "cell_type": "code",
   "execution_count": null,
   "metadata": {},
   "outputs": [],
   "source": [
    "from quantum.computer import QuantumComputer\n",
    "%display latex"
   ]
  },
  {
   "cell_type": "markdown",
   "metadata": {},
   "source": [
    "# 1. Simon algorithm"
   ]
  },
  {
   "cell_type": "markdown",
   "metadata": {},
   "source": [
    "**Exercise 1.1**: implement the Simon's circuit: write a function `simonCircuit(n, m, f)` that takes as input a function $f: \\{0, 1\\}^n \\to X$ and outputs the outcome of the measure of the Simon circuit. (Here, we assume that elements of $X$ are encoded by integers written on $m$ bits, *e.g.* $X = \\{0, 1, \\ldots, 2^m-1\\}$.)"
   ]
  },
  {
   "cell_type": "code",
   "execution_count": null,
   "metadata": {},
   "outputs": [],
   "source": [
    "def simonCircuit(n, m, f):\n",
    "    ### write your code here"
   ]
  },
  {
   "cell_type": "markdown",
   "metadata": {},
   "source": [
    "**Exercice 1.2**: implement Simon's algorithm: write a function `simon(n, m, f)` that takes as input a function $f: \\{0, 1\\}^n \\to X$ with the promise that there exists `a` such that $f(x) = f(y)$ iff $y \\in \\{x, x+a\\}$, and outputs $a$."
   ]
  },
  {
   "cell_type": "code",
   "execution_count": null,
   "metadata": {},
   "outputs": [],
   "source": [
    "def simon(n, m, f):\n",
    "    \"\"\"\n",
    "    Return `a` such that `f(x) = f(y)` iff `y = x` or `y = x + a`.\n",
    "    \"\"\"\n",
    "    ### write your code here"
   ]
  },
  {
   "cell_type": "markdown",
   "metadata": {},
   "source": [
    "**Exercise 1.3**: write tests demonstrating that your implementation works"
   ]
  },
  {
   "cell_type": "code",
   "execution_count": null,
   "metadata": {},
   "outputs": [],
   "source": [
    "### write your tests here"
   ]
  },
  {
   "cell_type": "markdown",
   "metadata": {},
   "source": [
    "# 2. Shor algorithm"
   ]
  },
  {
   "cell_type": "markdown",
   "metadata": {},
   "source": [
    "## Controlled phase shift gate\n",
    "\n",
    "Unfortunately, controlled phase shift gates are not builtin functions of our quantum computer.\n",
    "\n",
    "One can nevertheless implement it in soft as follows:"
   ]
  },
  {
   "cell_type": "code",
   "execution_count": null,
   "metadata": {},
   "outputs": [],
   "source": [
    "def controlledPhaseShift(QC, c, x, angle):\n",
    "    r\"\"\"\n",
    "    INPUT:\n",
    "    \n",
    "    - ``QC'' -- the quantum computer on which the gate is applied\n",
    "    \n",
    "    - ``c'' -- the controlled register\n",
    "    \n",
    "    - ``x'' -- the register on which the phase shift gate acts\n",
    "    \n",
    "    - ``angle`` -- the angle of rotation\n",
    "    \"\"\"\n",
    "    QC.phase_shift(c, angle/2)\n",
    "    QC.phase_shift(x, angle/2)\n",
    "    QC.CX(c, x)\n",
    "    QC.phase_shift(x, -angle/2)\n",
    "    QC.CX(c, x)"
   ]
  },
  {
   "cell_type": "markdown",
   "metadata": {},
   "source": [
    "**Exercise 2.1**: prove that the function `controlledPhaseShift` works correctly"
   ]
  },
  {
   "cell_type": "markdown",
   "metadata": {},
   "source": [
    "## Quantum Fourier transform\n",
    "\n",
    "Let $n$ be a positive integer.\n",
    "We recall that the Quantum Fourier transform is the gate $\\text{QFT}_n$ acting by:\n",
    "$$\\text{QFT}_n \\left|x\\right> = \\frac 1{2^{n/2}} \\cdot \\sum_{y=0}^{2^n-1} \\zeta_n^{xy} \\left|y\\right>$$\n",
    "with $\\zeta_n = \\exp\\big(\\frac{2i\\pi}{2^n}\\big)$"
   ]
  },
  {
   "cell_type": "markdown",
   "metadata": {},
   "source": [
    "**Exercise 2.2**: implement a function `QFT(QC, reg)` which applies the quantum Fourier transform to the register `reg` of the quantum computer `QC`."
   ]
  },
  {
   "cell_type": "code",
   "execution_count": null,
   "metadata": {},
   "outputs": [],
   "source": [
    "def QFT(QC, reg):\n",
    "    ### write your code here"
   ]
  },
  {
   "cell_type": "markdown",
   "metadata": {},
   "source": [
    "## Shor circuit\n",
    "\n",
    "**Exercise 2.3**: write a function `shorCircuit(n, m, f)` that takes as input integers $n$ and $m$ together with a function $f : \\mathbb Z \\to X$ (where elements of $X$ are encoded by integers written on $m$ bits, *e.g.* $X = \\{0, 1, \\ldots, 2^m-1\\}$) and outputs the outcome of the Shor circuit (normalized as a rational number between $0$ and $1$) corresponding to these values."
   ]
  },
  {
   "cell_type": "code",
   "execution_count": null,
   "metadata": {},
   "outputs": [],
   "source": [
    "def shorCircuit(n, m, f):\n",
    "    ### write your code here"
   ]
  },
  {
   "cell_type": "markdown",
   "metadata": {},
   "source": [
    "**Exercise 2.4**: below is a simplified version of the Shor circuit avoiding the use of controlled shift gates; draw the corresponding circuit and prove that it is equivalent to the classical Shor circuit."
   ]
  },
  {
   "cell_type": "code",
   "execution_count": null,
   "metadata": {},
   "outputs": [],
   "source": [
    "def simplifiedShorCircuit(n, m, f):\n",
    "    QC = QuantumComputer()\n",
    "    x = QC.malloc(n)\n",
    "    y = QC.malloc(m)\n",
    "    QC.hadamard(x)\n",
    "    QC.apply(f, x, y)\n",
    "    angle = 0\n",
    "    outcome = 0\n",
    "    for i in range(n):\n",
    "        QC.phase_shift(x[n-1-i], angle)\n",
    "        QC.hadamard(x[n-1-i])\n",
    "        v = QC.measure(x[n-1-i])\n",
    "        angle = angle/2 + (pi/2)*v\n",
    "        outcome += v / 2**(n-i)\n",
    "    return outcome"
   ]
  },
  {
   "cell_type": "markdown",
   "metadata": {},
   "source": [
    "We now would like to observe the behavior of Shor's circuit.\n",
    "For this, we use the following code which runs Shor circuit with the function `f` a bunch of times and draws an histogram of the outcomes."
   ]
  },
  {
   "cell_type": "code",
   "execution_count": null,
   "metadata": {},
   "outputs": [],
   "source": [
    "def statistics(n, m, f, repeat=100):\n",
    "    outcomes = [simplifiedShorCircuit(n, m, f) for _ in range(repeat)]\n",
    "    return histogram(outcomes, bins=2^n, range=[0,1])"
   ]
  },
  {
   "cell_type": "markdown",
   "metadata": {},
   "source": [
    "**Exercise 2.5**: run the function `statistics` with the functions $x \\mapsto x \\bmod r$ with $r = 2, 3, 4, 5, 8$ and comment the results you observe."
   ]
  },
  {
   "cell_type": "code",
   "execution_count": null,
   "metadata": {},
   "outputs": [],
   "source": [
    "# The function x |-> x mod r\n",
    "def modr(r):\n",
    "    def f(x):\n",
    "        return x % r\n",
    "    return f"
   ]
  },
  {
   "cell_type": "code",
   "execution_count": null,
   "metadata": {},
   "outputs": [],
   "source": [
    "### write you tests here"
   ]
  },
  {
   "cell_type": "markdown",
   "metadata": {},
   "source": [
    "## Finding periods \n",
    "\n",
    "The function `continued_fractions(x)` computes the continued fraction of a real number $x$"
   ]
  },
  {
   "cell_type": "code",
   "execution_count": null,
   "metadata": {},
   "outputs": [],
   "source": [
    "CF = continued_fraction(pi)\n",
    "CF"
   ]
  },
  {
   "cell_type": "markdown",
   "metadata": {},
   "source": [
    "The convergents of $x$ (that are the rational approximations of $x$) are given by the method `convergents`. \n",
    "Precisely the call `CF.convergents()` returns the (lazy) list of convergents (this list is finite if $x$ rational, infinite otherwise)."
   ]
  },
  {
   "cell_type": "code",
   "execution_count": null,
   "metadata": {},
   "outputs": [],
   "source": [
    "CF.convergents()      # the (lazy) list of convergents of pi"
   ]
  },
  {
   "cell_type": "code",
   "execution_count": null,
   "metadata": {},
   "outputs": [],
   "source": [
    "CF.convergents()[0]   # first approximation of pi"
   ]
  },
  {
   "cell_type": "code",
   "execution_count": null,
   "metadata": {},
   "outputs": [],
   "source": [
    "CF.convergents()[1]   # second approximation of pi"
   ]
  },
  {
   "cell_type": "markdown",
   "metadata": {},
   "source": [
    "**Exercise 2.6**: write a function `findPeriod(n, m, f)` that returns the period of `f`"
   ]
  },
  {
   "cell_type": "code",
   "execution_count": null,
   "metadata": {},
   "outputs": [],
   "source": [
    "def findPeriod(n, m, f):\n",
    "    ### write your code here"
   ]
  },
  {
   "cell_type": "code",
   "execution_count": null,
   "metadata": {},
   "outputs": [],
   "source": [
    "findPeriod(6, 3, modr(7))   # should return 7"
   ]
  },
  {
   "cell_type": "code",
   "execution_count": null,
   "metadata": {},
   "outputs": [],
   "source": [
    "findPeriod(7, 4, modr(11))  # should return 11"
   ]
  },
  {
   "cell_type": "code",
   "execution_count": null,
   "metadata": {},
   "outputs": [],
   "source": [
    "def powermod(a, n):\n",
    "    def f(x):\n",
    "        return (a^x) % n\n",
    "    return f\n",
    "findPeriod(7, 4, powermod(2, 11))  # should return 10 (which is the order of 2 modulo 11)"
   ]
  }
 ],
 "metadata": {
  "kernelspec": {
   "display_name": "SageMath 10.5.beta3",
   "language": "sage",
   "name": "sagemath"
  },
  "language_info": {
   "codemirror_mode": {
    "name": "ipython",
    "version": 3
   },
   "file_extension": ".py",
   "mimetype": "text/x-python",
   "name": "python",
   "nbconvert_exporter": "python",
   "pygments_lexer": "ipython3",
   "version": "3.10.12"
  }
 },
 "nbformat": 4,
 "nbformat_minor": 4
}
